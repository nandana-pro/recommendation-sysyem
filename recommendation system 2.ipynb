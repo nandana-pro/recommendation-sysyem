{
 "cells": [
  {
   "cell_type": "code",
   "execution_count": 3,
   "id": "1391d24f-afa4-493c-8f21-9d6f8caa5557",
   "metadata": {},
   "outputs": [
    {
     "name": "stdout",
     "output_type": "stream",
     "text": [
      "Collecting scikit-surprise\n",
      "  Using cached scikit_surprise-1.1.4-cp312-cp312-win_amd64.whl\n",
      "Requirement already satisfied: joblib>=1.2.0 in c:\\users\\junai\\anaconda3\\lib\\site-packages (from scikit-surprise) (1.4.2)\n",
      "Requirement already satisfied: numpy>=1.19.5 in c:\\users\\junai\\anaconda3\\lib\\site-packages (from scikit-surprise) (1.26.4)\n",
      "Requirement already satisfied: scipy>=1.6.0 in c:\\users\\junai\\anaconda3\\lib\\site-packages (from scikit-surprise) (1.13.1)\n",
      "Installing collected packages: scikit-surprise\n",
      "Successfully installed scikit-surprise-1.1.4\n"
     ]
    }
   ],
   "source": [
    "#installing surprise which is the library for matrux factorisation\n",
    "!pip install scikit-surprise"
   ]
  },
  {
   "cell_type": "code",
   "execution_count": 5,
   "id": "f69c780a-3eb5-492c-917b-2f4ee2b760f3",
   "metadata": {},
   "outputs": [],
   "source": [
    "#importing necessary libraries\n",
    "import pandas as pd\n",
    "from surprise import Dataset, Reader, SVD\n",
    "from surprise.model_selection import train_test_split\n",
    "from surprise import accuracy\n",
    "from collections import defaultdict\n",
    "import warnings\n",
    "warnings.filterwarnings(\"ignore\")"
   ]
  },
  {
   "cell_type": "code",
   "execution_count": 9,
   "id": "22f2a8a9-c60e-4e81-91d8-ed9b117d55ba",
   "metadata": {},
   "outputs": [],
   "source": [
    "#loading the dataset\n",
    "df = pd.read_csv(\"u.data\", sep='\\t', names=['userId', 'movieId', 'rating', 'timestamp'])\n",
    "df.drop(columns=['timestamp'], inplace=True)"
   ]
  },
  {
   "cell_type": "code",
   "execution_count": 11,
   "id": "7c808437-b833-4289-84e4-71a6651b9759",
   "metadata": {},
   "outputs": [],
   "source": [
    "#converting to surprise format\n",
    "reader = Reader(rating_scale=(1, 5))\n",
    "data = Dataset.load_from_df(df[['userId', 'movieId', 'rating']], reader)\n"
   ]
  },
  {
   "cell_type": "code",
   "execution_count": 13,
   "id": "8183e864-0969-4b45-b94b-feffb8dc62d0",
   "metadata": {},
   "outputs": [],
   "source": [
    "#splitting the dataset into training and test dataset\n",
    "trainset, testset = train_test_split(data, test_size=0.2, random_state=42)\n"
   ]
  },
  {
   "cell_type": "code",
   "execution_count": 15,
   "id": "0df31e0f-614d-40e8-b704-71d9c9042116",
   "metadata": {},
   "outputs": [
    {
     "data": {
      "text/plain": [
       "<surprise.prediction_algorithms.matrix_factorization.SVD at 0x1c397074110>"
      ]
     },
     "execution_count": 15,
     "metadata": {},
     "output_type": "execute_result"
    }
   ],
   "source": [
    "#training the SVD model(Matrix Factorisation)\n",
    "model = SVD(n_factors=50, n_epochs=20, random_state=42)\n",
    "model.fit(trainset)"
   ]
  },
  {
   "cell_type": "code",
   "execution_count": 17,
   "id": "814f518f-6413-44a3-97e8-7e991a78f684",
   "metadata": {},
   "outputs": [],
   "source": [
    "#predicting on test dataset\n",
    "predictions = model.test(testset)"
   ]
  },
  {
   "cell_type": "code",
   "execution_count": 19,
   "id": "d60990d4-4279-4970-9c7f-5207c58034af",
   "metadata": {},
   "outputs": [
    {
     "name": "stdout",
     "output_type": "stream",
     "text": [
      "Evaluation Metrics:\n",
      "RMSE: 0.9348\n",
      "RMSE: 0.9348\n",
      "MAE:  0.7377\n",
      "MAE : 0.7377\n"
     ]
    }
   ],
   "source": [
    "#evaluating the model\n",
    "print(\"Evaluation Metrics:\")\n",
    "print(\"RMSE:\", round(accuracy.rmse(predictions), 4))\n",
    "print(\"MAE :\", round(accuracy.mae(predictions), 4))\n"
   ]
  },
  {
   "cell_type": "code",
   "execution_count": 21,
   "id": "8ef48ee3-3a0f-4db5-8a0a-fc92e6433acb",
   "metadata": {},
   "outputs": [],
   "source": [
    "#getting top-n recommendations\n",
    "def get_top_n(predictions, n=5):\n",
    "    top_n = defaultdict(list)\n",
    "    for uid, iid, true_r, est, _ in predictions:\n",
    "        top_n[uid].append((iid, est))\n",
    "    for uid, user_ratings in top_n.items():\n",
    "        user_ratings.sort(key=lambda x: x[1], reverse=True)\n",
    "        top_n[uid] = user_ratings[:n]\n",
    "    return top_n"
   ]
  },
  {
   "cell_type": "code",
   "execution_count": 23,
   "id": "0ab59423-7a85-4c80-9bab-4a1c4ad05235",
   "metadata": {},
   "outputs": [],
   "source": [
    "top_n = get_top_n(predictions, n=5)"
   ]
  },
  {
   "cell_type": "code",
   "execution_count": 25,
   "id": "0a168d7b-c64b-4563-b678-673f1eef2cd8",
   "metadata": {},
   "outputs": [],
   "source": [
    "#loading the movie titles\n",
    "movie_titles_df = pd.read_csv('u.item', sep='|', encoding='latin-1', header=None, usecols=[0, 1], names=['movieId', 'title'])\n",
    "movie_titles = pd.Series(movie_titles_df.title.values, index=movie_titles_df.movieId).to_dict()"
   ]
  },
  {
   "cell_type": "code",
   "execution_count": 27,
   "id": "74570f39-1604-4584-bfd0-0efea208c17c",
   "metadata": {},
   "outputs": [
    {
     "name": "stdout",
     "output_type": "stream",
     "text": [
      "Sample Top 5 Recommendations Per User:\n",
      "\n",
      "User 907:\n",
      "  Princess Bride, The (1987) (ID: 173) - Predicted Rating: 5.00\n",
      "  Celluloid Closet, The (1995) (ID: 813) - Predicted Rating: 5.00\n",
      "  Fugitive, The (1993) (ID: 79) - Predicted Rating: 5.00\n",
      "  Empire Strikes Back, The (1980) (ID: 172) - Predicted Rating: 5.00\n",
      "  In the Name of the Father (1993) (ID: 317) - Predicted Rating: 5.00\n",
      "\n",
      "User 371:\n",
      "  Dances with Wolves (1990) (ID: 97) - Predicted Rating: 4.28\n",
      "  Blues Brothers, The (1980) (ID: 186) - Predicted Rating: 4.26\n",
      "  Indiana Jones and the Last Crusade (1989) (ID: 210) - Predicted Rating: 4.20\n",
      "  Brazil (1985) (ID: 175) - Predicted Rating: 3.93\n",
      "  Highlander (1986) (ID: 431) - Predicted Rating: 3.90\n",
      "\n",
      "User 218:\n",
      "  Usual Suspects, The (1995) (ID: 12) - Predicted Rating: 4.23\n",
      "  Chinatown (1974) (ID: 654) - Predicted Rating: 3.76\n",
      "  This Is Spinal Tap (1984) (ID: 209) - Predicted Rating: 3.58\n",
      "  Abyss, The (1989) (ID: 164) - Predicted Rating: 3.42\n",
      "  Clerks (1994) (ID: 42) - Predicted Rating: 3.39\n",
      "\n",
      "User 829:\n",
      "  Close Shave, A (1995) (ID: 408) - Predicted Rating: 4.52\n",
      "  Lone Star (1996) (ID: 124) - Predicted Rating: 4.09\n",
      "  Cinema Paradiso (1988) (ID: 170) - Predicted Rating: 3.97\n",
      "  Chasing Amy (1997) (ID: 268) - Predicted Rating: 3.90\n",
      "  Room with a View, A (1986) (ID: 213) - Predicted Rating: 3.85\n",
      "\n",
      "User 733:\n",
      "  Boot, Das (1981) (ID: 515) - Predicted Rating: 4.00\n",
      "  Postino, Il (1994) (ID: 14) - Predicted Rating: 3.90\n",
      "  Dead Man (1995) (ID: 922) - Predicted Rating: 3.52\n",
      "  Chungking Express (1994) (ID: 1129) - Predicted Rating: 3.40\n",
      "  Courage Under Fire (1996) (ID: 471) - Predicted Rating: 3.11\n"
     ]
    }
   ],
   "source": [
    "#showing top 5 recommendations\n",
    "print(\"Sample Top 5 Recommendations Per User:\")\n",
    "for uid, user_ratings in list(top_n.items())[:5]:\n",
    "    print(f\"\\nUser {uid}:\")\n",
    "    for iid, rating in user_ratings:\n",
    "        title = movie_titles.get(iid, \"Unknown Movie\")\n",
    "        print(f\"  {title} (ID: {iid}) - Predicted Rating: {rating:.2f}\")"
   ]
  },
  {
   "cell_type": "code",
   "execution_count": null,
   "id": "5c8da8d9-a6d7-41a1-9292-a88ba86a5e75",
   "metadata": {},
   "outputs": [],
   "source": []
  }
 ],
 "metadata": {
  "kernelspec": {
   "display_name": "Python [conda env:base] *",
   "language": "python",
   "name": "conda-base-py"
  },
  "language_info": {
   "codemirror_mode": {
    "name": "ipython",
    "version": 3
   },
   "file_extension": ".py",
   "mimetype": "text/x-python",
   "name": "python",
   "nbconvert_exporter": "python",
   "pygments_lexer": "ipython3",
   "version": "3.12.3"
  }
 },
 "nbformat": 4,
 "nbformat_minor": 5
}
